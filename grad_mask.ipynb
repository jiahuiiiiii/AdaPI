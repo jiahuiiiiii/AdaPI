{
 "cells": [
  {
   "cell_type": "code",
   "execution_count": 1,
   "metadata": {},
   "outputs": [],
   "source": [
    "import torch\n",
    "import torch.nn as nn\n",
    "class weight_single(torch.autograd.Function):\n",
    "    \"\"\" define straight through estimator with overrided gradient (gate) \"\"\"\n",
    "    @staticmethod\n",
    "    def forward(ctx, weight):\n",
    "        return weight\n",
    "    @staticmethod\n",
    "    def backward(ctx, grad_output):\n",
    "        return grad_output\n",
    "class weight_multi_mask_grad(torch.autograd.Function):\n",
    "    \"\"\" define straight through estimator with overrided gradient (gate) \"\"\"\n",
    "    @staticmethod\n",
    "    def forward(ctx, weight, weight_mask_1, weight_mask_2):\n",
    "        ctx.save_for_backward(weight_mask_2)\n",
    "        return torch.mul(weight, weight_mask_1)\n",
    "\n",
    "    @staticmethod\n",
    "    def backward(ctx, grad_output):\n",
    "        weight_mask_2, = ctx.saved_tensors\n",
    "        return torch.mul(grad_output, weight_mask_2), None, None"
   ]
  },
  {
   "cell_type": "code",
   "execution_count": 2,
   "metadata": {},
   "outputs": [
    {
     "name": "stdout",
     "output_type": "stream",
     "text": [
      "Parameter containing:\n",
      "tensor([[-0.5801,  1.2196,  0.5998],\n",
      "        [-0.8279,  1.8570, -1.4480],\n",
      "        [ 0.3319, -0.1356,  0.4788]], requires_grad=True)\n"
     ]
    }
   ],
   "source": [
    "weight = nn.Parameter(torch.randn(3, 3))\n",
    "print(weight)"
   ]
  },
  {
   "cell_type": "code",
   "execution_count": 3,
   "metadata": {},
   "outputs": [
    {
     "name": "stdout",
     "output_type": "stream",
     "text": [
      "tensor([[1., 0., 1.],\n",
      "        [1., 0., 0.],\n",
      "        [1., 1., 1.]]) \n",
      " tensor([[0., 0., 1.],\n",
      "        [0., 1., 1.],\n",
      "        [0., 1., 0.]])\n"
     ]
    }
   ],
   "source": [
    "weight_mask_1 = torch.randint(low=0, high=2, size=(3, 3), dtype=torch.float32)\n",
    "weight_mask_2 = torch.randint(low=0, high=2, size=(3, 3), dtype=torch.float32)\n",
    "weight_mask_1.requires_grad = False\n",
    "weight_mask_2.requires_grad = False\n",
    "print(weight_mask_1, \"\\n\", weight_mask_2)"
   ]
  },
  {
   "cell_type": "code",
   "execution_count": 4,
   "metadata": {},
   "outputs": [
    {
     "name": "stdout",
     "output_type": "stream",
     "text": [
      "tensor([[-0.5801,  0.0000,  0.5998],\n",
      "        [-0.8279,  0.0000, -0.0000],\n",
      "        [ 0.3319, -0.1356,  0.4788]], grad_fn=<weight_multi_mask_gradBackward>)\n"
     ]
    }
   ],
   "source": [
    "wgt_out = weight_multi_mask_grad.apply(weight, weight_mask_1, weight_mask_2)\n",
    "# wgt_out = weight_single.apply(weight)\n",
    "print(wgt_out)\n",
    "sum = torch.sum(wgt_out)\n",
    "sum.backward()\n",
    "# print(weight.data.grad)"
   ]
  },
  {
   "cell_type": "code",
   "execution_count": 5,
   "metadata": {},
   "outputs": [
    {
     "name": "stdout",
     "output_type": "stream",
     "text": [
      "tensor([[0., 0., 1.],\n",
      "        [0., 1., 1.],\n",
      "        [0., 1., 0.]])\n"
     ]
    }
   ],
   "source": [
    "print(weight.grad)"
   ]
  },
  {
   "cell_type": "code",
   "execution_count": 6,
   "metadata": {},
   "outputs": [
    {
     "name": "stdout",
     "output_type": "stream",
     "text": [
      "tensor([[1., 1., 1.],\n",
      "        [1., 1., 1.],\n",
      "        [1., 1., 1.]])\n"
     ]
    }
   ],
   "source": [
    "weight = nn.Parameter(torch.randn(3, 3))\n",
    "weight.requires_grad=True\n",
    "sum = torch.sum(weight)\n",
    "sum.backward()\n",
    "print(weight.grad)"
   ]
  },
  {
   "cell_type": "code",
   "execution_count": 10,
   "metadata": {},
   "outputs": [
    {
     "name": "stdout",
     "output_type": "stream",
     "text": [
      "60% threshold: 8.200000762939453\n"
     ]
    }
   ],
   "source": [
    "import torch\n",
    "\n",
    "# assuming `x` is your 1D tensor\n",
    "x = torch.tensor([1., 0., 0., 0., 5., 6., 7., 8., 9., 10.])\n",
    "\n",
    "# compute the 60th percentile (0.6 quantile)\n",
    "threshold = x.quantile(0.8)\n",
    "\n",
    "print('80% threshold:', threshold.item())"
   ]
  }
 ],
 "metadata": {
  "kernelspec": {
   "display_name": "torchenv",
   "language": "python",
   "name": "python3"
  },
  "language_info": {
   "codemirror_mode": {
    "name": "ipython",
    "version": 3
   },
   "file_extension": ".py",
   "mimetype": "text/x-python",
   "name": "python",
   "nbconvert_exporter": "python",
   "pygments_lexer": "ipython3",
   "version": "3.9.15"
  },
  "orig_nbformat": 4
 },
 "nbformat": 4,
 "nbformat_minor": 2
}
